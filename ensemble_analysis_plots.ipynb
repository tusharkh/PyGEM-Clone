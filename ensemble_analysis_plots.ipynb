{
 "cells": [
  {
   "cell_type": "code",
   "execution_count": null,
   "metadata": {},
   "outputs": [],
   "source": [
    "import pymc\n",
    "import numpy as np\n",
    "import pandas as pd\n",
    "import xarray as xr\n",
    "import copy\n",
    "import matplotlib.pyplot as plt\n",
    "import pygemfxns_ensemble_sampling as es\n",
    "import glob\n",
    "import os\n",
    "import run_calibration_list_multiprocess as rc\n",
    "import matplotlib.mlab as mlab"
   ]
  },
  {
   "cell_type": "code",
   "execution_count": 20,
   "metadata": {},
   "outputs": [
    {
     "name": "stdout",
     "output_type": "stream",
     "text": [
      "['10000Samples_10079.pickle', '3000Samples_10059.pickle', '5000Samples_10075.pickle', '30000Samples_10075.pickle', '5000Samples_10079.pickle', '10000Samples_10060.pickle', '30000Samples_10059.pickle', '30000Samples_10060.pickle', '3000Samples_10060.pickle', '30000Samples_10079.pickle', '10000Samples_10075.pickle', '1000Samples_10060.pickle', '1000Samples_10059.pickle', '5000Samples_10059.pickle', '5000Samples_10060.pickle', '1000Samples_10075.pickle', '1000Samples_10079.pickle', '10000Samples_10059.pickle', '3000Samples_10075.pickle', '3000Samples_10079.pickle']\n",
      "10000 10079\n",
      "3000 10059\n",
      "5000 10075\n",
      "30000 10075\n",
      "5000 10079\n",
      "10000 10060\n",
      "30000 10059\n",
      "30000 10060\n",
      "3000 10060\n",
      "30000 10079\n",
      "10000 10075\n",
      "1000 10060\n",
      "1000 10059\n",
      "5000 10059\n",
      "5000 10060\n",
      "1000 10075\n",
      "1000 10079\n",
      "10000 10059\n",
      "3000 10075\n",
      "3000 10079\n"
     ]
    }
   ],
   "source": [
    "filelist = glob.glob(os.path.join('*.pickle'))\n",
    "print(filelist)\n",
    "traces = {}\n",
    "for f in filelist:\n",
    "    samples = f[:-20]\n",
    "    name = f[-12:-7]\n",
    "    print(samples, name)\n",
    "    traces[(name, samples)] = pymc.database.pickle.load(f)"
   ]
  },
  {
   "cell_type": "code",
   "execution_count": 21,
   "metadata": {},
   "outputs": [
    {
     "data": {
      "text/plain": [
       "{('10079', '10000'): <pymc.database.pickle.Database at 0x7f1402a74390>,\n",
       " ('10059', '3000'): <pymc.database.pickle.Database at 0x7f1402a806a0>,\n",
       " ('10075', '5000'): <pymc.database.pickle.Database at 0x7f1402a80b00>,\n",
       " ('10075', '30000'): <pymc.database.pickle.Database at 0x7f1402a80f60>,\n",
       " ('10079', '5000'): <pymc.database.pickle.Database at 0x7f1402a80f98>,\n",
       " ('10060', '10000'): <pymc.database.pickle.Database at 0x7f1402a898d0>,\n",
       " ('10059', '30000'): <pymc.database.pickle.Database at 0x7f1402a89cc0>,\n",
       " ('10060', '30000'): <pymc.database.pickle.Database at 0x7f1402a89cf8>,\n",
       " ('10060', '3000'): <pymc.database.pickle.Database at 0x7f1402a74b38>,\n",
       " ('10079', '30000'): <pymc.database.pickle.Database at 0x7f1402a16630>,\n",
       " ('10075', '10000'): <pymc.database.pickle.Database at 0x7f1402a16a90>,\n",
       " ('10060', '1000'): <pymc.database.pickle.Database at 0x7f1402a16ef0>,\n",
       " ('10059', '1000'): <pymc.database.pickle.Database at 0x7f1402a16f28>,\n",
       " ('10059', '5000'): <pymc.database.pickle.Database at 0x7f1402a1f7f0>,\n",
       " ('10060', '5000'): <pymc.database.pickle.Database at 0x7f1402a1fc50>,\n",
       " ('10075', '1000'): <pymc.database.pickle.Database at 0x7f1402a1fc88>,\n",
       " ('10079', '1000'): <pymc.database.pickle.Database at 0x7f1402a2c550>,\n",
       " ('10059', '10000'): <pymc.database.pickle.Database at 0x7f1402a2c9b0>,\n",
       " ('10075', '3000'): <pymc.database.pickle.Database at 0x7f1402a2ce10>,\n",
       " ('10079', '3000'): <pymc.database.pickle.Database at 0x7f1402a2ce48>}"
      ]
     },
     "execution_count": 21,
     "metadata": {},
     "output_type": "execute_result"
    }
   ],
   "source": [
    "traces"
   ]
  },
  {
   "cell_type": "code",
   "execution_count": 131,
   "metadata": {},
   "outputs": [
    {
     "name": "stdout",
     "output_type": "stream",
     "text": [
      "['../MCMC_data/parameter_sets_4glaciers_10000samples_200ensembles_20180727.nc', '../MCMC_data/parameter_sets_4glaciers_5000samples_200ensembles_20180727.nc', '../MCMC_data/parameter_sets_4glaciers_1000samples_200ensembles_20180727.nc', '../MCMC_data/parameter_sets_4glaciers_30000samples_200ensembles_20180727.nc', '../MCMC_data/parameter_sets_4glaciers_3000samples_200ensembles_20180727.nc']\n",
      "../MCMC_data/parameter_sets_4glaciers_10000samples_200ensembles_20180727.nc\n",
      "10000\n",
      "../MCMC_data/parameter_sets_4glaciers_5000samples_200ensembles_20180727.nc\n",
      "5000\n",
      "../MCMC_data/parameter_sets_4glaciers_1000samples_200ensembles_20180727.nc\n",
      "1000\n",
      "../MCMC_data/parameter_sets_4glaciers_30000samples_200ensembles_20180727.nc\n",
      "30000\n",
      "../MCMC_data/parameter_sets_4glaciers_3000samples_200ensembles_20180727.nc\n",
      "3000\n"
     ]
    }
   ],
   "source": [
    "filelist = glob.glob(os.path.join('../MCMC_data/' , '*.nc'))\n",
    "print(filelist)\n",
    "ensembles = {}\n",
    "samples = []\n",
    "for f in filelist:\n",
    "    print(f)\n",
    "    name = f[38:-32]\n",
    "    samples.append(name)\n",
    "    print(name)\n",
    "    ds = xr.open_dataset(f)\n",
    "    ensembles[name] = ds"
   ]
  },
  {
   "cell_type": "code",
   "execution_count": 134,
   "metadata": {},
   "outputs": [],
   "source": [
    "glaciers = ['15.1006', '15.10059', '15.10075', '15.10079']\n",
    "variabl = ['massbal']#, 'precfactor', 'ddfsnow', 'massbal']\n",
    "samples.sort()\n",
    "samples = ['1000', '3000', '5000', '10000', '30000']"
   ]
  },
  {
   "cell_type": "code",
   "execution_count": 141,
   "metadata": {},
   "outputs": [],
   "source": [
    "def get_glacier_data(glacier_number):\n",
    "            '''\n",
    "            Returns the mass balance and error estimate for\n",
    "            the glacier from David Shean's DEM data\n",
    "\n",
    "\n",
    "            Parameters\n",
    "            ----------\n",
    "            glacier_number : float\n",
    "                RGI Id of the glacier for which data is to be\n",
    "                returned. Should be a number with a one or two\n",
    "                digit component before the decimal place\n",
    "                signifying glacier region, and 5 numbers after\n",
    "                the decimal which represent glacier number.\n",
    "                Example: 15.03733 for glacier 3733 in region 15\n",
    "\n",
    "\n",
    "            Returns\n",
    "            -------\n",
    "            (tuple)\n",
    "            massbal : float\n",
    "                average annual massbalance over david sheans's\n",
    "                dataset\n",
    "            stdev : float\n",
    "                estimate error (standard deviation) of measurement\n",
    "            index : int\n",
    "                index of glacier in csv file for debugging\n",
    "\n",
    "            '''\n",
    "\n",
    "            #convert input to float\n",
    "            glacier_number = float(glacier_number)\n",
    "\n",
    "            # upload csv file of DEM data and convert to\n",
    "            # dataframe\n",
    "            csv_path = '../DEMs/hma_mb_20171211_1343.csv'\n",
    "            df = pd.read_csv(csv_path)\n",
    "\n",
    "            # locate the row corresponding to the glacier\n",
    "            # with the given RGIId number\n",
    "            row = df.loc[round(df['RGIId'], 5) == glacier_number]\n",
    "\n",
    "            # get massbalance, measurement error (standard\n",
    "            # deviation) and index of the\n",
    "            # glacier (index for debugging purposes)\n",
    "            index = row.index[0]\n",
    "            massbal = row['mb_mwea'][index]\n",
    "            stdev = row['mb_mwea_sigma'][index]\n",
    "\n",
    "            return massbal, stdev, index"
   ]
  },
  {
   "cell_type": "code",
   "execution_count": 153,
   "metadata": {},
   "outputs": [
    {
     "data": {
      "text/plain": [
       "0.25761620229183041"
      ]
     },
     "execution_count": 153,
     "metadata": {},
     "output_type": "execute_result"
    }
   ],
   "source": [
    "np.mean(ensembles['30000']['15.10075'].sel(variables='massbal').values)"
   ]
  },
  {
   "cell_type": "code",
   "execution_count": 148,
   "metadata": {},
   "outputs": [
    {
     "name": "stdout",
     "output_type": "stream",
     "text": [
      "15.1006\n",
      "observed mean, std: -0.041 0.239 3\n",
      "1000\n",
      "massbal\n",
      "mean: 0.0485333188266 std: 0.237568151107\n",
      "3000\n",
      "massbal\n",
      "mean: 0.067505779678 std: 0.255946164863\n",
      "5000\n",
      "massbal\n",
      "mean: 0.0580876731769 std: 0.250958968707\n",
      "10000\n",
      "massbal\n",
      "mean: 0.0462780729628 std: 0.242817111123\n",
      "30000\n",
      "massbal\n",
      "mean: 0.0564343342403 std: 0.251202397916\n",
      "15.10059\n",
      "observed mean, std: 0.074 0.237 2\n",
      "1000\n",
      "massbal\n",
      "mean: 0.216274570474 std: 0.244817067067\n",
      "3000\n",
      "massbal\n",
      "mean: 0.261092985526 std: 0.266327055556\n",
      "5000\n",
      "massbal\n",
      "mean: 0.205778161922 std: 0.24982517005\n",
      "10000\n",
      "massbal\n",
      "mean: 0.194019513758 std: 0.249969279872\n",
      "30000\n",
      "massbal\n",
      "mean: 0.196155249536 std: 0.250257559106\n",
      "15.10075\n",
      "observed mean, std: 0.084 0.24 0\n",
      "1000\n",
      "massbal\n",
      "mean: 0.296195645042 std: 0.260783993624\n",
      "3000\n",
      "massbal\n",
      "mean: 0.204392290351 std: 0.254536689438\n",
      "5000\n",
      "massbal\n",
      "mean: 0.241138062934 std: 0.254339059152\n",
      "10000\n",
      "massbal\n",
      "mean: 0.274163802237 std: 0.264499436747\n",
      "30000\n",
      "massbal\n",
      "mean: 0.257616202292 std: 0.263810390215\n",
      "15.10079\n",
      "observed mean, std: 0.082 0.238 1\n",
      "1000\n",
      "massbal\n",
      "mean: 0.30909286906 std: 0.342840490526\n",
      "3000\n",
      "massbal\n",
      "mean: 0.214302622205 std: 0.257005296946\n",
      "5000\n",
      "massbal\n",
      "mean: 0.269352026645 std: 0.254510145853\n",
      "10000\n",
      "massbal\n",
      "mean: 0.22524939763 std: 0.254562198379\n",
      "30000\n",
      "massbal\n",
      "mean: 0.241589573241 std: 0.254862043585\n"
     ]
    }
   ],
   "source": [
    "\n",
    "for glac in glaciers:\n",
    "    print(glac)\n",
    "    mean, std, index = get_glacier_data(float(glac))\n",
    "    print('observed mean, std:', mean, std, index)\n",
    "    #for key, val in ensembles.items():\n",
    "    for sample in samples:\n",
    "        val = ensembles[sample]\n",
    "        print(sample)\n",
    "    \n",
    "        for var in variabl:\n",
    "            print(var)\n",
    "            mean = np.mean(val[glac].sel(variables=var).values)\n",
    "            std = np.std(val[glac].sel(variables=var).values)\n",
    "            print('mean:', mean, 'std:', std)\n",
    "        "
   ]
  },
  {
   "cell_type": "code",
   "execution_count": 105,
   "metadata": {},
   "outputs": [
    {
     "data": {
      "text/plain": [
       "<xarray.DataArray '15.1006' (runs: 200)>\n",
       "array([ 2.188107,  2.188107,  2.188107,  2.791304,  2.716221,  2.306758,\n",
       "        2.306758,  2.320939,  2.320939,  2.676396,  2.458666,  2.684647,\n",
       "        2.479075,  3.370174,  3.370174,  2.887615,  2.887615,  2.125781,\n",
       "        2.125781,  0.899419,  2.477995,  2.478984,  3.252994,  3.252994,\n",
       "        3.29834 ,  3.29834 ,  2.374229,  2.374229,  2.239797,  1.014241,\n",
       "        2.869379,  1.472456,  2.244555,  2.029186,  2.029186,  2.642548,\n",
       "        3.302095,  2.915113,  2.915113,  2.868803,  2.290042,  2.290042,\n",
       "        2.290042,  2.836791,  2.836791,  2.764643,  2.764643,  2.764643,\n",
       "        2.426777,  2.280555,  2.42327 ,  2.010638,  2.632609,  2.632609,\n",
       "        2.097875,  4.202466,  3.760174,  3.760174,  3.718561,  2.772188,\n",
       "        2.772188,  3.009554,  2.780785,  2.186985,  2.242949,  2.242949,\n",
       "        2.242949,  2.90643 ,  3.477393,  3.477393,  3.626729,  3.626729,\n",
       "        4.319518,  4.010175,  4.010175,  2.442332,  2.442332,  2.379803,\n",
       "        0.400205,  3.065513,  2.200975,  3.249176,  2.267729,  2.267729,\n",
       "        2.267729,  2.461073,  2.461073,  2.203684,  2.532349,  2.379715,\n",
       "        2.618131,  2.772478,  2.772478,  4.388585,  4.388585,  3.658098,\n",
       "        3.658098,  3.658098,  3.331556,  3.331556,  2.310348,  2.310348,\n",
       "        3.377846,  3.377846,  2.70757 ,  2.70757 ,  2.70757 ,  2.929817,\n",
       "        2.644161,  2.918097,  2.918097,  2.918097,  2.918097,  3.219918,\n",
       "        3.219918,  3.782026,  3.376572,  3.383937,  3.383937,  2.704262,\n",
       "        2.704262,  2.978475,  3.01902 ,  3.037057,  2.379912,  2.379912,\n",
       "        1.060576, -0.533522,  1.05287 ,  1.097012,  1.345968,  1.773625,\n",
       "        1.417016,  0.583191,  2.611222,  2.611222,  2.75604 ,  3.668314,\n",
       "        3.668314,  3.668314,  3.789835,  3.06788 ,  3.06788 ,  3.242583,\n",
       "        3.242583,  2.567891,  3.015366,  2.072381,  2.072381,  2.547572,\n",
       "        3.251292,  3.251292,  3.464835,  3.992162,  3.523256,  3.390623,\n",
       "        3.390623,  3.390623,  2.617672,  2.163628,  2.566702,  2.566702,\n",
       "        3.040865,  2.615596,  3.133438,  3.133438,  3.133438,  2.583988,\n",
       "        2.583988,  2.44086 ,  2.44086 ,  2.506491,  1.385621,  3.481601,\n",
       "        2.509572,  2.509572,  2.952306,  2.826679,  2.826679,  2.068722,\n",
       "        2.068722,  2.20156 ,  1.917159,  1.948255,  2.524856,  2.524856,\n",
       "        2.1188  ,  3.048307,  3.758593,  3.758593,  3.758593,  3.758593,\n",
       "        4.360464,  4.260415,  4.103268,  2.848222,  2.848222,  3.100341,\n",
       "        3.100341,  3.236092])\n",
       "Coordinates:\n",
       "  * runs       (runs) int64 0 1 2 3 4 5 6 7 8 9 10 11 12 13 14 15 16 17 18 ...\n",
       "    variables  <U10 'tempchange'"
      ]
     },
     "execution_count": 105,
     "metadata": {},
     "output_type": "execute_result"
    }
   ],
   "source": [
    "ensembles['1000']['15.1006'].sel(variables='tempchange')"
   ]
  },
  {
   "cell_type": "code",
   "execution_count": null,
   "metadata": {},
   "outputs": [],
   "source": []
  }
 ],
 "metadata": {
  "kernelspec": {
   "display_name": "Python 3",
   "language": "python",
   "name": "python3"
  },
  "language_info": {
   "codemirror_mode": {
    "name": "ipython",
    "version": 3
   },
   "file_extension": ".py",
   "mimetype": "text/x-python",
   "name": "python",
   "nbconvert_exporter": "python",
   "pygments_lexer": "ipython3",
   "version": "3.6.5"
  }
 },
 "nbformat": 4,
 "nbformat_minor": 2
}
