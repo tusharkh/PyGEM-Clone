{
 "cells": [
  {
   "cell_type": "code",
   "execution_count": 2,
   "metadata": {},
   "outputs": [],
   "source": [
    "import pandas as pd"
   ]
  },
  {
   "cell_type": "code",
   "execution_count": 4,
   "metadata": {},
   "outputs": [],
   "source": [
    "csv_path = '../DEMs/hma_mb_20171211_1343.csv'\n",
    "observed_data = pd.read_csv(csv_path)\n",
    "#there is definitely a better way to do this"
   ]
  },
  {
   "cell_type": "code",
   "execution_count": 35,
   "metadata": {},
   "outputs": [],
   "source": [
    "no = 15.03733"
   ]
  },
  {
   "cell_type": "code",
   "execution_count": 36,
   "metadata": {},
   "outputs": [
    {
     "data": {
      "text/plain": [
       "float"
      ]
     },
     "execution_count": 36,
     "metadata": {},
     "output_type": "execute_result"
    }
   ],
   "source": [
    "type(no)"
   ]
  },
  {
   "cell_type": "code",
   "execution_count": 39,
   "metadata": {},
   "outputs": [],
   "source": [
    "row = observed_data.loc[round(observed_data['RGIId'], 5) == no]"
   ]
  },
  {
   "cell_type": "code",
   "execution_count": 64,
   "metadata": {},
   "outputs": [
    {
     "data": {
      "text/plain": [
       "(2804, -0.43700000000000006, 0.24100000000000002)"
      ]
     },
     "execution_count": 64,
     "metadata": {},
     "output_type": "execute_result"
    }
   ],
   "source": [
    "index = row.index[0]\n",
    "massbal = row['mb_mwea'][index]\n",
    "std = row['mb_mwea_sigma'][index]\n",
    "index, massbal, std"
   ]
  },
  {
   "cell_type": "code",
   "execution_count": 63,
   "metadata": {},
   "outputs": [
    {
     "data": {
      "text/plain": [
       "0.24100000000000002"
      ]
     },
     "execution_count": 63,
     "metadata": {},
     "output_type": "execute_result"
    }
   ],
   "source": [
    "row['mb_mwea_sigma'][index]"
   ]
  },
  {
   "cell_type": "code",
   "execution_count": null,
   "metadata": {},
   "outputs": [],
   "source": []
  },
  {
   "cell_type": "code",
   "execution_count": null,
   "metadata": {},
   "outputs": [],
   "source": []
  },
  {
   "cell_type": "code",
   "execution_count": 32,
   "metadata": {},
   "outputs": [],
   "source": [
    "index =  observed_data.index[round(observed_data['RGIId'], 5)==no].tolist()[0]"
   ]
  },
  {
   "cell_type": "code",
   "execution_count": 8,
   "metadata": {
    "scrolled": true
   },
   "outputs": [
    {
     "data": {
      "text/plain": [
       "0        False\n",
       "1        False\n",
       "2        False\n",
       "3        False\n",
       "4        False\n",
       "5        False\n",
       "6        False\n",
       "7        False\n",
       "8        False\n",
       "9        False\n",
       "10       False\n",
       "11       False\n",
       "12       False\n",
       "13       False\n",
       "14       False\n",
       "15       False\n",
       "16       False\n",
       "17       False\n",
       "18       False\n",
       "19       False\n",
       "20       False\n",
       "21       False\n",
       "22       False\n",
       "23       False\n",
       "24       False\n",
       "25       False\n",
       "26       False\n",
       "27       False\n",
       "28       False\n",
       "29       False\n",
       "         ...  \n",
       "10619    False\n",
       "10620    False\n",
       "10621    False\n",
       "10622    False\n",
       "10623    False\n",
       "10624    False\n",
       "10625    False\n",
       "10626    False\n",
       "10627    False\n",
       "10628    False\n",
       "10629    False\n",
       "10630    False\n",
       "10631    False\n",
       "10632    False\n",
       "10633    False\n",
       "10634    False\n",
       "10635    False\n",
       "10636    False\n",
       "10637    False\n",
       "10638    False\n",
       "10639    False\n",
       "10640    False\n",
       "10641    False\n",
       "10642    False\n",
       "10643    False\n",
       "10644    False\n",
       "10645    False\n",
       "10646    False\n",
       "10647    False\n",
       "10648    False\n",
       "Name: RGIId, Length: 10649, dtype: bool"
      ]
     },
     "execution_count": 8,
     "metadata": {},
     "output_type": "execute_result"
    }
   ],
   "source": [
    "observed_data['RGIId']==no"
   ]
  },
  {
   "cell_type": "code",
   "execution_count": null,
   "metadata": {},
   "outputs": [],
   "source": [
    "observed_data['glacno'] = ((observed_data['RGIId'] % 1) * 10**5).round(0).astype(int)\n",
    "index =  observed_data.index[observed_data['glacno']==glacier_number].tolist()[0]\n",
    "mass_bal = observed_data['mb_mwea'][index]\n",
    "error = observed_data['mb_mwea_sigma'][index]\n",
    "index, mass_bal, error"
   ]
  }
 ],
 "metadata": {
  "kernelspec": {
   "display_name": "Python 3",
   "language": "python",
   "name": "python3"
  },
  "language_info": {
   "codemirror_mode": {
    "name": "ipython",
    "version": 3
   },
   "file_extension": ".py",
   "mimetype": "text/x-python",
   "name": "python",
   "nbconvert_exporter": "python",
   "pygments_lexer": "ipython3",
   "version": "3.6.5"
  }
 },
 "nbformat": 4,
 "nbformat_minor": 2
}
