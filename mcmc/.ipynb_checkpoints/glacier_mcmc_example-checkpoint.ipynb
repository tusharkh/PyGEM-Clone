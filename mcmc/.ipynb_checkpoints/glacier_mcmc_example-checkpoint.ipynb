{
 "cells": [
  {
   "cell_type": "markdown",
   "metadata": {},
   "source": [
    "Example to use pymc3 on a real glacier"
   ]
  },
  {
   "cell_type": "code",
   "execution_count": 1,
   "metadata": {},
   "outputs": [],
   "source": [
    "import pandas as pd\n",
    "import numpy as np\n",
    "import pymc3 as pm"
   ]
  },
  {
   "cell_type": "markdown",
   "metadata": {},
   "source": [
    "Importing glacer data"
   ]
  },
  {
   "cell_type": "code",
   "execution_count": 6,
   "metadata": {},
   "outputs": [],
   "source": [
    "csv_path = '../../DEMs/hma_mb_20171211_1343.csv'"
   ]
  },
  {
   "cell_type": "markdown",
   "metadata": {},
   "source": [
    "Find index of glacier 15.03473 and 15.03733"
   ]
  },
  {
   "cell_type": "code",
   "execution_count": 77,
   "metadata": {},
   "outputs": [],
   "source": [
    "def get_glacier_data(csv_path, glacier_number):\n",
    "    '''\n",
    "    Returns the mass balance and error estimate for\n",
    "    the glacier given the filepath of the DEM file and\n",
    "    the glacier number in the for <glacier_region>.<number>\n",
    "    '''\n",
    "    observed_data = pd.read_csv(csv_path)\n",
    "    #there is definitely a better way to do this\n",
    "    observed_data['glacno'] = ((observed_data['RGIId'] % 1) * 10**5).round(0).astype(int)\n",
    "    index =  observed_data.index[observed_data['glacno']==3733].tolist()[0]\n",
    "    mass_bal = observed_data['mb_mwea'][index]\n",
    "    error = observed_data['mb_mwea_sigma'][i1[0]]\n",
    "    \n",
    "    return mass_bal, error, index"
   ]
  },
  {
   "cell_type": "code",
   "execution_count": 78,
   "metadata": {},
   "outputs": [],
   "source": [
    "mass_bal, error, index = get_glacier_data(csv_path, 3473)"
   ]
  },
  {
   "cell_type": "code",
   "execution_count": 80,
   "metadata": {},
   "outputs": [],
   "source": [
    "import sys"
   ]
  },
  {
   "cell_type": "code",
   "execution_count": 81,
   "metadata": {},
   "outputs": [],
   "source": [
    "path = '../'"
   ]
  },
  {
   "cell_type": "code",
   "execution_count": null,
   "metadata": {},
   "outputs": [],
   "source": []
  }
 ],
 "metadata": {
  "kernelspec": {
   "display_name": "Python 3",
   "language": "python",
   "name": "python3"
  },
  "language_info": {
   "codemirror_mode": {
    "name": "ipython",
    "version": 3
   },
   "file_extension": ".py",
   "mimetype": "text/x-python",
   "name": "python",
   "nbconvert_exporter": "python",
   "pygments_lexer": "ipython3",
   "version": "3.6.5"
  }
 },
 "nbformat": 4,
 "nbformat_minor": 2
}
