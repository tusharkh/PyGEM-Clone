{
 "cells": [
  {
   "cell_type": "markdown",
   "metadata": {},
   "source": [
    "Example to use pymc3 on a real glacier"
   ]
  },
  {
   "cell_type": "code",
   "execution_count": 1,
   "metadata": {},
   "outputs": [],
   "source": [
    "import pandas as pd\n",
    "import numpy as np\n",
    "import pymc3 as pm\n",
    "import matplotlib.pyplot as plt\n",
    "plt.style.use('seaborn-darkgrid')"
   ]
  },
  {
   "cell_type": "markdown",
   "metadata": {},
   "source": [
    "Importing glacer data"
   ]
  },
  {
   "cell_type": "code",
   "execution_count": 2,
   "metadata": {},
   "outputs": [],
   "source": [
    "csv_path = '../DEMs/hma_mb_20171211_1343.csv'"
   ]
  },
  {
   "cell_type": "markdown",
   "metadata": {},
   "source": [
    "Find index of glacier 15.03473 and 15.03733"
   ]
  },
  {
   "cell_type": "code",
   "execution_count": 3,
   "metadata": {},
   "outputs": [],
   "source": [
    "def get_glacier_data(csv_path, glacier_number):\n",
    "    '''\n",
    "    Returns the mass balance and error estimate for\n",
    "    the glacier given the filepath of the DEM file and\n",
    "    the glacier number in the for <glacier_region>.<number>\n",
    "    '''\n",
    "    observed_data = pd.read_csv(csv_path)\n",
    "    #there is definitely a better way to do this\n",
    "    observed_data['glacno'] = ((observed_data['RGIId'] % 1) * 10**5).round(0).astype(int)\n",
    "    index =  observed_data.index[observed_data['glacno']==3733].tolist()[0]\n",
    "    mass_bal = observed_data['mb_mwea'][index]\n",
    "    error = observed_data['mb_mwea_sigma'][index]\n",
    "    \n",
    "    return mass_bal, error, index"
   ]
  },
  {
   "cell_type": "code",
   "execution_count": 4,
   "metadata": {},
   "outputs": [],
   "source": [
    "mass_bal, error, index = get_glacier_data(csv_path, 3473)"
   ]
  },
  {
   "cell_type": "code",
   "execution_count": 5,
   "metadata": {},
   "outputs": [],
   "source": [
    "import sys"
   ]
  },
  {
   "cell_type": "code",
   "execution_count": 6,
   "metadata": {},
   "outputs": [],
   "source": [
    "path = '../'"
   ]
  },
  {
   "cell_type": "code",
   "execution_count": 7,
   "metadata": {},
   "outputs": [],
   "source": [
    "sys.path.append(path)"
   ]
  },
  {
   "cell_type": "code",
   "execution_count": 5,
   "metadata": {},
   "outputs": [],
   "source": [
    "import pygemfxns_massbalance"
   ]
  },
  {
   "cell_type": "code",
   "execution_count": 6,
   "metadata": {},
   "outputs": [],
   "source": [
    "import pygem_input"
   ]
  },
  {
   "cell_type": "code",
   "execution_count": 8,
   "metadata": {},
   "outputs": [
    {
     "name": "stdout",
     "output_type": "stream",
     "text": [
      "This study is only focusing on glaciers ['03473'] in region [15].\n"
     ]
    },
    {
     "name": "stderr",
     "output_type": "stream",
     "text": [
      "/home/tushar/anaconda3/envs/pymc3/lib/python3.6/site-packages/pandas/core/indexing.py:1472: FutureWarning: \n",
      "Passing list-likes to .loc or [] with any missing label will raise\n",
      "KeyError in the future, you can use .reindex() as an alternative.\n",
      "\n",
      "See the documentation here:\n",
      "https://pandas.pydata.org/pandas-docs/stable/indexing.html#deprecate-loc-reindex-listlike\n",
      "  return self._getitem_tuple(key)\n"
     ]
    }
   ],
   "source": [
    "import run_calibration_4Tushar"
   ]
  },
  {
   "cell_type": "code",
   "execution_count": 9,
   "metadata": {},
   "outputs": [
    {
     "data": {
      "text/plain": [
       "-0.43700000000000006"
      ]
     },
     "execution_count": 9,
     "metadata": {},
     "output_type": "execute_result"
    }
   ],
   "source": [
    "mass_bal"
   ]
  },
  {
   "cell_type": "code",
   "execution_count": 12,
   "metadata": {},
   "outputs": [
    {
     "data": {
      "text/plain": [
       "\"\\ntest_glacier_model = pm.Model()\\n\\nwith test_glacier_model:\\n    \\n    #Create prior probability distributions, based on\\n    #current understanding of ranges\\n    \\n    #Precipitation factor, based on range of 0.5 to 2\\n    # we use gamma function to get this range, with shape parameter\\n    # alpha=6.33 (also known as k) and rate parameter beta=6 (inverse of\\n    # scale parameter theta)\\n    prec_factor = pm.Gamma('prec_factor', alpha=6.33, beta=6)\\n    #Degree day of snow, based on (add reference to paper)\\n    dd_snow = pm.Normal('dd_snow', mu=0.0041, sd=0.0015)\\n    #Temperature change, based on range of -5 o 5\\n    temp_change = pm.Normal('temp_change', mu=0, sd=2)\\n\""
      ]
     },
     "execution_count": 12,
     "metadata": {},
     "output_type": "execute_result"
    }
   ],
   "source": [
    "'''\n",
    "test_glacier_model = pm.Model()\n",
    "\n",
    "with test_glacier_model:\n",
    "    \n",
    "    #Create prior probability distributions, based on\n",
    "    #current understanding of ranges\n",
    "    \n",
    "    #Precipitation factor, based on range of 0.5 to 2\n",
    "    # we use gamma function to get this range, with shape parameter\n",
    "    # alpha=6.33 (also known as k) and rate parameter beta=6 (inverse of\n",
    "    # scale parameter theta)\n",
    "    prec_factor = pm.Gamma('prec_factor', alpha=6.33, beta=6)\n",
    "    #Degree day of snow, based on (add reference to paper)\n",
    "    dd_snow = pm.Normal('dd_snow', mu=0.0041, sd=0.0015)\n",
    "    #Temperature change, based on range of -5 o 5\n",
    "    temp_change = pm.Normal('temp_change', mu=0, sd=2)\n",
    "'''"
   ]
  },
  {
   "cell_type": "code",
   "execution_count": 13,
   "metadata": {},
   "outputs": [
    {
     "name": "stdout",
     "output_type": "stream",
     "text": [
      "This study is only focusing on glaciers ['03473'] in region [15].\n"
     ]
    },
    {
     "ename": "AttributeError",
     "evalue": "'int' object has no attribute 'columns'",
     "output_type": "error",
     "traceback": [
      "\u001b[0;31m---------------------------------------------------------------------------\u001b[0m",
      "\u001b[0;31mAttributeError\u001b[0m                            Traceback (most recent call last)",
      "\u001b[0;32m<ipython-input-13-b47fc306d1c8>\u001b[0m in \u001b[0;36m<module>\u001b[0;34m()\u001b[0m\n\u001b[0;32m----> 1\u001b[0;31m \u001b[0mparameter_list\u001b[0m \u001b[0;34m=\u001b[0m \u001b[0mmass_balance_tushar\u001b[0m\u001b[0;34m.\u001b[0m\u001b[0minitialize\u001b[0m\u001b[0;34m(\u001b[0m\u001b[0;34m)\u001b[0m\u001b[0;34m\u001b[0m\u001b[0m\n\u001b[0m",
      "\u001b[0;32m~/PyGEM/PyGEM/mass_balance_tushar.py\u001b[0m in \u001b[0;36minitialize\u001b[0;34m()\u001b[0m\n\u001b[1;32m     82\u001b[0m     \u001b[0;31m# Load calibration data and add to main_glac_rgi\u001b[0m\u001b[0;34m\u001b[0m\u001b[0;34m\u001b[0m\u001b[0m\n\u001b[1;32m     83\u001b[0m     \u001b[0mmb1\u001b[0m \u001b[0;34m=\u001b[0m \u001b[0mclass_mbdata\u001b[0m\u001b[0;34m.\u001b[0m\u001b[0mMBData\u001b[0m\u001b[0;34m(\u001b[0m\u001b[0mname\u001b[0m\u001b[0;34m=\u001b[0m\u001b[0;34m'shean'\u001b[0m\u001b[0;34m)\u001b[0m\u001b[0;34m\u001b[0m\u001b[0m\n\u001b[0;32m---> 84\u001b[0;31m     \u001b[0mmb1\u001b[0m\u001b[0;34m.\u001b[0m\u001b[0mmbdata\u001b[0m \u001b[0;34m=\u001b[0m \u001b[0mmb1\u001b[0m\u001b[0;34m.\u001b[0m\u001b[0mmasschange_total\u001b[0m\u001b[0;34m(\u001b[0m\u001b[0mmain_glac_rgi\u001b[0m\u001b[0;34m,\u001b[0m \u001b[0mgcm_startyear\u001b[0m\u001b[0;34m,\u001b[0m \u001b[0mgcm_endyear\u001b[0m\u001b[0;34m)\u001b[0m\u001b[0;34m\u001b[0m\u001b[0m\n\u001b[0m\u001b[1;32m     85\u001b[0m     \u001b[0;31m# Merge datasets\u001b[0m\u001b[0;34m\u001b[0m\u001b[0;34m\u001b[0m\u001b[0m\n\u001b[1;32m     86\u001b[0m     \u001b[0mmain_glac_rgi\u001b[0m \u001b[0;34m=\u001b[0m \u001b[0mpd\u001b[0m\u001b[0;34m.\u001b[0m\u001b[0mconcat\u001b[0m\u001b[0;34m(\u001b[0m\u001b[0;34m[\u001b[0m\u001b[0mmain_glac_rgi\u001b[0m\u001b[0;34m,\u001b[0m \u001b[0mmb1\u001b[0m\u001b[0;34m.\u001b[0m\u001b[0mmbdata\u001b[0m\u001b[0;34m]\u001b[0m\u001b[0;34m,\u001b[0m \u001b[0maxis\u001b[0m\u001b[0;34m=\u001b[0m\u001b[0;36m1\u001b[0m\u001b[0;34m)\u001b[0m\u001b[0;34m\u001b[0m\u001b[0m\n",
      "\u001b[0;32m~/PyGEM/PyGEM/class_mbdata.py\u001b[0m in \u001b[0;36mmasschange_total\u001b[0;34m(self, main_glac_rgi, main_glac_hyps, dates_table)\u001b[0m\n\u001b[1;32m     80\u001b[0m             \u001b[0mds\u001b[0m\u001b[0;34m.\u001b[0m\u001b[0mreset_index\u001b[0m\u001b[0;34m(\u001b[0m\u001b[0mdrop\u001b[0m\u001b[0;34m=\u001b[0m\u001b[0;32mTrue\u001b[0m\u001b[0;34m,\u001b[0m \u001b[0minplace\u001b[0m\u001b[0;34m=\u001b[0m\u001b[0;32mTrue\u001b[0m\u001b[0;34m)\u001b[0m\u001b[0;34m\u001b[0m\u001b[0m\n\u001b[1;32m     81\u001b[0m             \u001b[0;31m# Elevation indices\u001b[0m\u001b[0;34m\u001b[0m\u001b[0;34m\u001b[0m\u001b[0m\n\u001b[0;32m---> 82\u001b[0;31m             \u001b[0melev_bins\u001b[0m \u001b[0;34m=\u001b[0m \u001b[0mmain_glac_hyps\u001b[0m\u001b[0;34m.\u001b[0m\u001b[0mcolumns\u001b[0m\u001b[0;34m.\u001b[0m\u001b[0mvalues\u001b[0m\u001b[0;34m.\u001b[0m\u001b[0mastype\u001b[0m\u001b[0;34m(\u001b[0m\u001b[0mint\u001b[0m\u001b[0;34m)\u001b[0m\u001b[0;34m\u001b[0m\u001b[0m\n\u001b[0m\u001b[1;32m     83\u001b[0m             \u001b[0melev_bin_interval\u001b[0m \u001b[0;34m=\u001b[0m \u001b[0melev_bins\u001b[0m\u001b[0;34m[\u001b[0m\u001b[0;36m1\u001b[0m\u001b[0;34m]\u001b[0m \u001b[0;34m-\u001b[0m \u001b[0melev_bins\u001b[0m\u001b[0;34m[\u001b[0m\u001b[0;36m0\u001b[0m\u001b[0;34m]\u001b[0m\u001b[0;34m\u001b[0m\u001b[0m\n\u001b[1;32m     84\u001b[0m             ds['z1_idx'] = (\n",
      "\u001b[0;31mAttributeError\u001b[0m: 'int' object has no attribute 'columns'"
     ]
    }
   ],
   "source": [
    "parameter_list = mass_balance_tushar.initialize()"
   ]
  },
  {
   "cell_type": "code",
   "execution_count": null,
   "metadata": {},
   "outputs": [],
   "source": []
  }
 ],
 "metadata": {
  "kernelspec": {
   "display_name": "Python 3",
   "language": "python",
   "name": "python3"
  },
  "language_info": {
   "codemirror_mode": {
    "name": "ipython",
    "version": 3
   },
   "file_extension": ".py",
   "mimetype": "text/x-python",
   "name": "python",
   "nbconvert_exporter": "python",
   "pygments_lexer": "ipython3",
   "version": "3.6.5"
  }
 },
 "nbformat": 4,
 "nbformat_minor": 2
}
