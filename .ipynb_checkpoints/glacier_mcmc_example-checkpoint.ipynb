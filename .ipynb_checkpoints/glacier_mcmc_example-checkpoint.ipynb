{
 "cells": [
  {
   "cell_type": "markdown",
   "metadata": {},
   "source": [
    "Example to use pymc3 on a real glacier"
   ]
  },
  {
   "cell_type": "code",
   "execution_count": 1,
   "metadata": {},
   "outputs": [],
   "source": [
    "import pandas as pd\n",
    "import numpy as np\n",
    "import pymc3 as pm\n",
    "import matplotlib.pyplot as plt\n",
    "plt.style.use('seaborn-darkgrid')"
   ]
  },
  {
   "cell_type": "markdown",
   "metadata": {},
   "source": [
    "Importing glacer data"
   ]
  },
  {
   "cell_type": "code",
   "execution_count": 5,
   "metadata": {},
   "outputs": [],
   "source": [
    "csv_path = '../DEMs/hma_mb_20171211_1343.csv'"
   ]
  },
  {
   "cell_type": "markdown",
   "metadata": {},
   "source": [
    "Find index of glacier 15.03473 and 15.03733"
   ]
  },
  {
   "cell_type": "code",
   "execution_count": 6,
   "metadata": {},
   "outputs": [],
   "source": [
    "def get_glacier_data(csv_path, glacier_number):\n",
    "    '''\n",
    "    Returns the mass balance and error estimate for\n",
    "    the glacier given the filepath of the DEM file and\n",
    "    the glacier number in the for <glacier_region>.<number>\n",
    "    '''\n",
    "    observed_data = pd.read_csv(csv_path)\n",
    "    #there is definitely a better way to do this\n",
    "    observed_data['glacno'] = ((observed_data['RGIId'] % 1) * 10**5).round(0).astype(int)\n",
    "    index =  observed_data.index[observed_data['glacno']==3733].tolist()[0]\n",
    "    mass_bal = observed_data['mb_mwea'][index]\n",
    "    error = observed_data['mb_mwea_sigma'][index]\n",
    "    \n",
    "    return mass_bal, error, index"
   ]
  },
  {
   "cell_type": "code",
   "execution_count": 7,
   "metadata": {},
   "outputs": [],
   "source": [
    "mass_bal, error, index = get_glacier_data(csv_path, 3473)"
   ]
  },
  {
   "cell_type": "code",
   "execution_count": 5,
   "metadata": {},
   "outputs": [],
   "source": [
    "import sys"
   ]
  },
  {
   "cell_type": "code",
   "execution_count": 6,
   "metadata": {},
   "outputs": [],
   "source": [
    "path = '../'"
   ]
  },
  {
   "cell_type": "code",
   "execution_count": 7,
   "metadata": {},
   "outputs": [],
   "source": [
    "sys.path.append(path)"
   ]
  },
  {
   "cell_type": "code",
   "execution_count": 8,
   "metadata": {},
   "outputs": [],
   "source": [
    "import pygemfxns_massbalance"
   ]
  },
  {
   "cell_type": "code",
   "execution_count": 9,
   "metadata": {},
   "outputs": [],
   "source": [
    "import pygem_input"
   ]
  },
  {
   "cell_type": "code",
   "execution_count": 10,
   "metadata": {},
   "outputs": [
    {
     "name": "stdout",
     "output_type": "stream",
     "text": [
      "This study is only focusing on glaciers ['00038', '00046', '00049', '00068', '00118', '00119', '03507', '03473', '03591', '03733', '03734'] in region [15].\n"
     ]
    },
    {
     "name": "stderr",
     "output_type": "stream",
     "text": [
      "/home/tushar/anaconda3/envs/pymc3/lib/python3.6/site-packages/pandas/core/indexing.py:1472: FutureWarning: \n",
      "Passing list-likes to .loc or [] with any missing label will raise\n",
      "KeyError in the future, you can use .reindex() as an alternative.\n",
      "\n",
      "See the documentation here:\n",
      "https://pandas.pydata.org/pandas-docs/stable/indexing.html#deprecate-loc-reindex-listlike\n",
      "  return self._getitem_tuple(key)\n"
     ]
    }
   ],
   "source": [
    "import mass_balance_tushar"
   ]
  },
  {
   "cell_type": "code",
   "execution_count": 11,
   "metadata": {},
   "outputs": [
    {
     "data": {
      "text/plain": [
       "-0.43700000000000006"
      ]
     },
     "execution_count": 11,
     "metadata": {},
     "output_type": "execute_result"
    }
   ],
   "source": [
    "mass_bal"
   ]
  },
  {
   "cell_type": "code",
   "execution_count": 12,
   "metadata": {},
   "outputs": [
    {
     "data": {
      "text/plain": [
       "\"\\ntest_glacier_model = pm.Model()\\n\\nwith test_glacier_model:\\n    \\n    #Create prior probability distributions, based on\\n    #current understanding of ranges\\n    \\n    #Precipitation factor, based on range of 0.5 to 2\\n    # we use gamma function to get this range, with shape parameter\\n    # alpha=6.33 (also known as k) and rate parameter beta=6 (inverse of\\n    # scale parameter theta)\\n    prec_factor = pm.Gamma('prec_factor', alpha=6.33, beta=6)\\n    #Degree day of snow, based on (add reference to paper)\\n    dd_snow = pm.Normal('dd_snow', mu=0.0041, sd=0.0015)\\n    #Temperature change, based on range of -5 o 5\\n    temp_change = pm.Normal('temp_change', mu=0, sd=2)\\n\""
      ]
     },
     "execution_count": 12,
     "metadata": {},
     "output_type": "execute_result"
    }
   ],
   "source": [
    "'''\n",
    "test_glacier_model = pm.Model()\n",
    "\n",
    "with test_glacier_model:\n",
    "    \n",
    "    #Create prior probability distributions, based on\n",
    "    #current understanding of ranges\n",
    "    \n",
    "    #Precipitation factor, based on range of 0.5 to 2\n",
    "    # we use gamma function to get this range, with shape parameter\n",
    "    # alpha=6.33 (also known as k) and rate parameter beta=6 (inverse of\n",
    "    # scale parameter theta)\n",
    "    prec_factor = pm.Gamma('prec_factor', alpha=6.33, beta=6)\n",
    "    #Degree day of snow, based on (add reference to paper)\n",
    "    dd_snow = pm.Normal('dd_snow', mu=0.0041, sd=0.0015)\n",
    "    #Temperature change, based on range of -5 o 5\n",
    "    temp_change = pm.Normal('temp_change', mu=0, sd=2)\n",
    "'''"
   ]
  },
  {
   "cell_type": "code",
   "execution_count": 13,
   "metadata": {},
   "outputs": [
    {
     "name": "stderr",
     "output_type": "stream",
     "text": [
      "usage: ipykernel_launcher.py [-h] [-gcm_file GCM_FILE]\n",
      "                             [-num_simultaneous_processes NUM_SIMULTANEOUS_PROCESSES]\n",
      "                             [-option_parallels OPTION_PARALLELS]\n",
      "ipykernel_launcher.py: error: unrecognized arguments: -f /run/user/1000/jupyter/kernel-7f94991b-31a3-4c3e-9c8b-5eeb897cd22a.json\n"
     ]
    },
    {
     "ename": "SystemExit",
     "evalue": "2",
     "output_type": "error",
     "traceback": [
      "An exception has occurred, use %tb to see the full traceback.\n",
      "\u001b[0;31mSystemExit\u001b[0m\u001b[0;31m:\u001b[0m 2\n"
     ]
    },
    {
     "name": "stderr",
     "output_type": "stream",
     "text": [
      "/home/tushar/anaconda3/envs/pymc3/lib/python3.6/site-packages/IPython/core/interactiveshell.py:2971: UserWarning: To exit: use 'exit', 'quit', or Ctrl-D.\n",
      "  warn(\"To exit: use 'exit', 'quit', or Ctrl-D.\", stacklevel=1)\n"
     ]
    }
   ],
   "source": [
    "result = mass_balance_tushar.find_mass_bal()"
   ]
  },
  {
   "cell_type": "code",
   "execution_count": null,
   "metadata": {},
   "outputs": [],
   "source": []
  }
 ],
 "metadata": {
  "kernelspec": {
   "display_name": "Python 3",
   "language": "python",
   "name": "python3"
  },
  "language_info": {
   "codemirror_mode": {
    "name": "ipython",
    "version": 3
   },
   "file_extension": ".py",
   "mimetype": "text/x-python",
   "name": "python",
   "nbconvert_exporter": "python",
   "pygments_lexer": "ipython3",
   "version": "3.6.5"
  }
 },
 "nbformat": 4,
 "nbformat_minor": 2
}
