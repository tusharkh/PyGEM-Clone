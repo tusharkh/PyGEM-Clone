{
 "cells": [
  {
   "cell_type": "markdown",
   "metadata": {},
   "source": [
    "The point of this notebook is to look at traces of different length and\n",
    "experiment with different methods of diagnosing them, with the ultimate aim of seeing that they converge properly\n",
    "Perhaps we will move on to evaluating the traces"
   ]
  },
  {
   "cell_type": "code",
   "execution_count": 10,
   "metadata": {},
   "outputs": [],
   "source": [
    "import pymc_model as pm\n",
    "import pymc\n",
    "import numpy as np\n",
    "import pandas as pd\n",
    "import copy\n",
    "import matplotlib.pyplot as plt\n",
    "import latin_hypercube as lh\n",
    "from pymc.Matplot import plot\n",
    "from pandas.plotting import autocorrelation_plot\n",
    "import pygemfxns_ensemble_sampling as es\n",
    "import v2_run_calibration_4Tushar as v2"
   ]
  },
  {
   "cell_type": "markdown",
   "metadata": {},
   "source": [
    "Upload different databases, each with its own sample length"
   ]
  },
  {
   "cell_type": "code",
   "execution_count": 2,
   "metadata": {},
   "outputs": [],
   "source": [
    "s1 = pymc.database.pickle.load('test2length1000.pickle')\n",
    "s3 = pymc.database.pickle.load('test2length3000.pickle')\n",
    "s5 = pymc.database.pickle.load('test2length5000.pickle')\n",
    "s10 = pymc.database.pickle.load('test2length10000.pickle')\n",
    "s30 = pymc.database.pickle.load('test2length30000.pickle')\n",
    "sample_dict = {'1000':s1, '3000':s3, '5000':s5, '10000':s10, '30000':s30}"
   ]
  },
  {
   "cell_type": "markdown",
   "metadata": {},
   "source": [
    "Start by comaring the means and standard deviations of each database"
   ]
  },
  {
   "cell_type": "code",
   "execution_count": 3,
   "metadata": {},
   "outputs": [
    {
     "name": "stdout",
     "output_type": "stream",
     "text": [
      "1000 samples: -0.562115960506 0.225390596859\n",
      "3000 samples: -0.541571378174 0.242510953646\n",
      "5000 samples: -0.54631709463 0.238941163444\n",
      "10000 samples: -0.531816067932 0.23496921524\n",
      "30000 samples: -0.539429164038 0.236528453722\n"
     ]
    }
   ],
   "source": [
    "for key, value in sample_dict.items():\n",
    "    mean = np.mean(value.trace('mass_bal')[:])\n",
    "    std = np.std(value.trace('mass_bal')[:])\n",
    "    print(key + ' samples:', mean, std)"
   ]
  },
  {
   "cell_type": "markdown",
   "metadata": {},
   "source": [
    "Use the built in pymc function to look at summary statistics for each variable. \n",
    "I was told that MC error should be less than 1% of mean, which is not actually \n",
    "a condition that is met even in the 10000 sample"
   ]
  },
  {
   "cell_type": "markdown",
   "metadata": {},
   "source": [
    "Now we look at a sampling of parameter sets over the space of the Markov chain; ie, we look at the mass balance value that each parameter set leads to, we sort the mass balance values, section them into chunks of equal probability, and randomly sample from each chunk. This gives us a 'stratified' sampling that covers the space of mass balance values but does so with the same mean and standard deviation that the entire chain does. "
   ]
  },
  {
   "cell_type": "code",
   "execution_count": 5,
   "metadata": {},
   "outputs": [
    {
     "name": "stdout",
     "output_type": "stream",
     "text": [
      "1000 samples, mean: -0.5621967638024394 std: 0.2253690063770066\n",
      "3000 samples, mean: -0.5417365395885467 std: 0.24237730227976598\n",
      "5000 samples, mean: -0.546621335550779 std: 0.23707697848716452\n",
      "10000 samples, mean: -0.5319464494448797 std: 0.2345919100919115\n",
      "30000 samples, mean: -0.5395731970783786 std: 0.2362750031162424\n"
     ]
    }
   ],
   "source": [
    "for key, value in sample_dict.items():\n",
    "    tempchange = value.trace('tempchange')[:]\n",
    "    precfactor = value.trace('precfactor')[:]\n",
    "    ddfsnow = value.trace('ddfsnow')[:]\n",
    "    massbal = value.trace('mass_bal')[:]\n",
    "    result = lh.sample2(tempchange=tempchange, precfactor=precfactor,\n",
    "                     ddfsnow=ddfsnow, massbal=massbal, samples=300)\n",
    "    mean = np.mean(result['massbal'])\n",
    "    std = np.std(result['massbal'])\n",
    "    print(key + ' samples, mean:', mean, 'std:', std)"
   ]
  },
  {
   "cell_type": "markdown",
   "metadata": {},
   "source": [
    "Now we look at the traces of each variable (thinned down) in the samples of different samples to see whether they have achieved a 'grassy' state, which is what we would expect as the chain converges"
   ]
  },
  {
   "cell_type": "code",
   "execution_count": 6,
   "metadata": {},
   "outputs": [
    {
     "name": "stdout",
     "output_type": "stream",
     "text": [
      "1000 samples, mean: -0.5620196272290008 std: 0.2250410309996986\n",
      "3000 samples, mean: -0.5416449308147085 std: 0.24179359290179978\n",
      "5000 samples, mean: -0.5466031222172559 std: 0.23908422595812695\n",
      "10000 samples, mean: -0.5319407572680862 std: 0.23517857234804568\n",
      "30000 samples, mean: -0.5388537019683503 std: 0.23694704788211726\n"
     ]
    }
   ],
   "source": [
    "for key, value in sample_dict.items():\n",
    "    tempchange = value.trace('tempchange')[:]\n",
    "    precfactor = value.trace('precfactor')[:]\n",
    "    ddfsnow = value.trace('ddfsnow')[:]\n",
    "    massbal = value.trace('mass_bal')[:]\n",
    "    result = es.stratified_sample(tempchange=tempchange, precfactor=precfactor,\n",
    "                     ddfsnow=ddfsnow, massbal=massbal, samples=300)\n",
    "    mean = np.mean(result['massbal'])\n",
    "    std = np.std(result['massbal'])\n",
    "    print(key + ' samples, mean:', mean, 'std:', std)"
   ]
  },
  {
   "cell_type": "code",
   "execution_count": 7,
   "metadata": {},
   "outputs": [],
   "source": [
    "s1 = pymc.database.pickle.load('test3length1000.pickle')\n",
    "s3 = pymc.database.pickle.load('test3length3000.pickle')\n",
    "s5 = pymc.database.pickle.load('test3length500.pickle')\n",
    "sample_dict = {'500':s5, '1000':s1, '3000':s3}"
   ]
  },
  {
   "cell_type": "code",
   "execution_count": 13,
   "metadata": {},
   "outputs": [
    {
     "data": {
      "text/plain": [
       "(0.084000000000000005, 0.23999999999999999, 0)"
      ]
     },
     "execution_count": 13,
     "metadata": {},
     "output_type": "execute_result"
    }
   ],
   "source": [
    "v2.get_glacier_data(10075)"
   ]
  },
  {
   "cell_type": "code",
   "execution_count": 8,
   "metadata": {},
   "outputs": [
    {
     "name": "stdout",
     "output_type": "stream",
     "text": [
      "500 samples: 0.251974064303 0.267120314569\n",
      "1000 samples: 0.277096385146 0.253354831738\n",
      "3000 samples: 0.267432746393 0.263555535698\n"
     ]
    }
   ],
   "source": [
    "for key, value in sample_dict.items():\n",
    "    mean = np.mean(value.trace('mass_bal')[:])\n",
    "    std = np.std(value.trace('mass_bal')[:])\n",
    "    print(key + ' samples:', mean, std)"
   ]
  },
  {
   "cell_type": "code",
   "execution_count": 9,
   "metadata": {},
   "outputs": [
    {
     "name": "stdout",
     "output_type": "stream",
     "text": [
      "500 samples, mean: 0.25321112617784974 std: 0.27252121480931085\n",
      "1000 samples, mean: 0.27733754910745473 std: 0.25231753945451824\n",
      "3000 samples, mean: 0.2675192225749556 std: 0.26334070437919954\n"
     ]
    }
   ],
   "source": [
    "for key, value in sample_dict.items():\n",
    "    tempchange = value.trace('tempchange')[:]\n",
    "    precfactor = value.trace('precfactor')[:]\n",
    "    ddfsnow = value.trace('ddfsnow')[:]\n",
    "    massbal = value.trace('mass_bal')[:]\n",
    "    result = es.stratified_sample(tempchange=tempchange, precfactor=precfactor,\n",
    "                     ddfsnow=ddfsnow, massbal=massbal, samples=300)\n",
    "    mean = np.mean(result['massbal'])\n",
    "    std = np.std(result['massbal'])\n",
    "    print(key + ' samples, mean:', mean, 'std:', std)"
   ]
  },
  {
   "cell_type": "code",
   "execution_count": 14,
   "metadata": {},
   "outputs": [
    {
     "data": {
      "text/plain": [
       "(-0.040999999999999995, 0.23899999999999999, 3)"
      ]
     },
     "execution_count": 14,
     "metadata": {},
     "output_type": "execute_result"
    }
   ],
   "source": [
    "v2.get_glacier_data(10060)"
   ]
  },
  {
   "cell_type": "code",
   "execution_count": 16,
   "metadata": {},
   "outputs": [],
   "source": [
    "s1 = pymc.database.pickle.load('test4length1000.pickle')\n",
    "#s3 = pymc.database.pickle.load('test4length3000.pickle')\n",
    "s5 = pymc.database.pickle.load('test4length500.pickle')\n",
    "sample_dict = {'500':s5, '1000':s1} #, '3000':s3}"
   ]
  },
  {
   "cell_type": "code",
   "execution_count": 17,
   "metadata": {},
   "outputs": [
    {
     "name": "stdout",
     "output_type": "stream",
     "text": [
      "500 samples: 0.100868109493 0.295260450306\n",
      "1000 samples: 0.068644963584 0.246338442658\n"
     ]
    }
   ],
   "source": [
    "for key, value in sample_dict.items():\n",
    "    mean = np.mean(value.trace('mass_bal')[:])\n",
    "    std = np.std(value.trace('mass_bal')[:])\n",
    "    print(key + ' samples:', mean, std)"
   ]
  },
  {
   "cell_type": "code",
   "execution_count": 18,
   "metadata": {},
   "outputs": [
    {
     "name": "stdout",
     "output_type": "stream",
     "text": [
      "500 samples, mean: 0.10237250948342419 std: 0.3031835812660306\n",
      "1000 samples, mean: 0.0686063534031408 std: 0.2460814988288975\n"
     ]
    }
   ],
   "source": [
    "for key, value in sample_dict.items():\n",
    "    tempchange = value.trace('tempchange')[:]\n",
    "    precfactor = value.trace('precfactor')[:]\n",
    "    ddfsnow = value.trace('ddfsnow')[:]\n",
    "    massbal = value.trace('mass_bal')[:]\n",
    "    result = es.stratified_sample(tempchange=tempchange, precfactor=precfactor,\n",
    "                     ddfsnow=ddfsnow, massbal=massbal, samples=300)\n",
    "    mean = np.mean(result['massbal'])\n",
    "    std = np.std(result['massbal'])\n",
    "    print(key + ' samples, mean:', mean, 'std:', std)"
   ]
  },
  {
   "cell_type": "code",
   "execution_count": null,
   "metadata": {},
   "outputs": [],
   "source": []
  }
 ],
 "metadata": {
  "kernelspec": {
   "display_name": "Python 3",
   "language": "python",
   "name": "python3"
  },
  "language_info": {
   "codemirror_mode": {
    "name": "ipython",
    "version": 3
   },
   "file_extension": ".py",
   "mimetype": "text/x-python",
   "name": "python",
   "nbconvert_exporter": "python",
   "pygments_lexer": "ipython3",
   "version": "3.6.5"
  }
 },
 "nbformat": 4,
 "nbformat_minor": 2
}
